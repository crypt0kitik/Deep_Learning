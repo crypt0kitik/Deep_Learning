{
 "cells": [
  {
   "cell_type": "markdown",
   "metadata": {},
   "source": [
    "Transaction Data for fraud\n",
    "\n",
    "The link for the dataset: https://www.kaggle.com/datasets/isabbaggin/transaction-fraudulent-financial-syntheticdata\n",
    "\n",
    "The dataset is entirely computer generated and does not contain any real-world information, ensuring privacy and data protection."
   ]
  },
  {
   "cell_type": "code",
   "execution_count": 7,
   "metadata": {},
   "outputs": [],
   "source": [
    "# import libraries\n",
    "import keras\n",
    "import numpy as np\n",
    "import matplotlib.pyplot as plt\n",
    "import pandas as pd\n",
    "\n",
    "from sklearn import metrics\n",
    "from sklearn.metrics import classification_report\n",
    "from sklearn.metrics import confusion_matrix\n",
    "from sklearn.metrics import accuracy_score\n",
    "from sklearn.metrics import roc_auc_score"
   ]
  },
  {
   "cell_type": "code",
   "execution_count": 8,
   "metadata": {},
   "outputs": [
    {
     "data": {
      "text/html": [
       "<div>\n",
       "<style scoped>\n",
       "    .dataframe tbody tr th:only-of-type {\n",
       "        vertical-align: middle;\n",
       "    }\n",
       "\n",
       "    .dataframe tbody tr th {\n",
       "        vertical-align: top;\n",
       "    }\n",
       "\n",
       "    .dataframe thead th {\n",
       "        text-align: right;\n",
       "    }\n",
       "</style>\n",
       "<table border=\"1\" class=\"dataframe\">\n",
       "  <thead>\n",
       "    <tr style=\"text-align: right;\">\n",
       "      <th></th>\n",
       "      <th>transaction_id</th>\n",
       "      <th>customer_id</th>\n",
       "      <th>merchant_id</th>\n",
       "      <th>amount</th>\n",
       "      <th>transaction_time</th>\n",
       "      <th>is_fraudulent</th>\n",
       "      <th>card_type</th>\n",
       "      <th>location</th>\n",
       "      <th>purchase_category</th>\n",
       "      <th>customer_age</th>\n",
       "      <th>transaction_description</th>\n",
       "    </tr>\n",
       "  </thead>\n",
       "  <tbody>\n",
       "    <tr>\n",
       "      <th>0</th>\n",
       "      <td>1</td>\n",
       "      <td>1082</td>\n",
       "      <td>2027</td>\n",
       "      <td>5758.59</td>\n",
       "      <td>2023-01-01 00:00:00</td>\n",
       "      <td>0</td>\n",
       "      <td>MasterCard</td>\n",
       "      <td>City-30</td>\n",
       "      <td>Gas Station</td>\n",
       "      <td>43</td>\n",
       "      <td>Purchase at Merchant-2027</td>\n",
       "    </tr>\n",
       "    <tr>\n",
       "      <th>1</th>\n",
       "      <td>2</td>\n",
       "      <td>1015</td>\n",
       "      <td>2053</td>\n",
       "      <td>1901.56</td>\n",
       "      <td>2023-01-01 00:00:01</td>\n",
       "      <td>1</td>\n",
       "      <td>Visa</td>\n",
       "      <td>City-47</td>\n",
       "      <td>Online Shopping</td>\n",
       "      <td>61</td>\n",
       "      <td>Purchase at Merchant-2053</td>\n",
       "    </tr>\n",
       "    <tr>\n",
       "      <th>2</th>\n",
       "      <td>3</td>\n",
       "      <td>1004</td>\n",
       "      <td>2035</td>\n",
       "      <td>1248.86</td>\n",
       "      <td>2023-01-01 00:00:02</td>\n",
       "      <td>1</td>\n",
       "      <td>MasterCard</td>\n",
       "      <td>City-6</td>\n",
       "      <td>Gas Station</td>\n",
       "      <td>57</td>\n",
       "      <td>Purchase at Merchant-2035</td>\n",
       "    </tr>\n",
       "    <tr>\n",
       "      <th>3</th>\n",
       "      <td>4</td>\n",
       "      <td>1095</td>\n",
       "      <td>2037</td>\n",
       "      <td>7619.05</td>\n",
       "      <td>2023-01-01 00:00:03</td>\n",
       "      <td>1</td>\n",
       "      <td>Discover</td>\n",
       "      <td>City-6</td>\n",
       "      <td>Travel</td>\n",
       "      <td>59</td>\n",
       "      <td>Purchase at Merchant-2037</td>\n",
       "    </tr>\n",
       "    <tr>\n",
       "      <th>4</th>\n",
       "      <td>5</td>\n",
       "      <td>1036</td>\n",
       "      <td>2083</td>\n",
       "      <td>1890.10</td>\n",
       "      <td>2023-01-01 00:00:04</td>\n",
       "      <td>1</td>\n",
       "      <td>MasterCard</td>\n",
       "      <td>City-34</td>\n",
       "      <td>Retail</td>\n",
       "      <td>36</td>\n",
       "      <td>Purchase at Merchant-2083</td>\n",
       "    </tr>\n",
       "    <tr>\n",
       "      <th>...</th>\n",
       "      <td>...</td>\n",
       "      <td>...</td>\n",
       "      <td>...</td>\n",
       "      <td>...</td>\n",
       "      <td>...</td>\n",
       "      <td>...</td>\n",
       "      <td>...</td>\n",
       "      <td>...</td>\n",
       "      <td>...</td>\n",
       "      <td>...</td>\n",
       "      <td>...</td>\n",
       "    </tr>\n",
       "    <tr>\n",
       "      <th>9995</th>\n",
       "      <td>9996</td>\n",
       "      <td>1056</td>\n",
       "      <td>2023</td>\n",
       "      <td>8935.28</td>\n",
       "      <td>2023-01-01 02:46:35</td>\n",
       "      <td>1</td>\n",
       "      <td>MasterCard</td>\n",
       "      <td>City-39</td>\n",
       "      <td>Restaurant</td>\n",
       "      <td>36</td>\n",
       "      <td>Purchase at Merchant-2023</td>\n",
       "    </tr>\n",
       "    <tr>\n",
       "      <th>9996</th>\n",
       "      <td>9997</td>\n",
       "      <td>1053</td>\n",
       "      <td>2026</td>\n",
       "      <td>30.15</td>\n",
       "      <td>2023-01-01 02:46:36</td>\n",
       "      <td>0</td>\n",
       "      <td>MasterCard</td>\n",
       "      <td>City-32</td>\n",
       "      <td>Retail</td>\n",
       "      <td>42</td>\n",
       "      <td>Purchase at Merchant-2026</td>\n",
       "    </tr>\n",
       "    <tr>\n",
       "      <th>9997</th>\n",
       "      <td>9998</td>\n",
       "      <td>1041</td>\n",
       "      <td>2034</td>\n",
       "      <td>6333.64</td>\n",
       "      <td>2023-01-01 02:46:37</td>\n",
       "      <td>0</td>\n",
       "      <td>American Express</td>\n",
       "      <td>City-1</td>\n",
       "      <td>Online Shopping</td>\n",
       "      <td>36</td>\n",
       "      <td>Purchase at Merchant-2034</td>\n",
       "    </tr>\n",
       "    <tr>\n",
       "      <th>9998</th>\n",
       "      <td>9999</td>\n",
       "      <td>1009</td>\n",
       "      <td>2019</td>\n",
       "      <td>2837.13</td>\n",
       "      <td>2023-01-01 02:46:38</td>\n",
       "      <td>1</td>\n",
       "      <td>Visa</td>\n",
       "      <td>City-11</td>\n",
       "      <td>Retail</td>\n",
       "      <td>57</td>\n",
       "      <td>Purchase at Merchant-2019</td>\n",
       "    </tr>\n",
       "    <tr>\n",
       "      <th>9999</th>\n",
       "      <td>10000</td>\n",
       "      <td>1082</td>\n",
       "      <td>2070</td>\n",
       "      <td>7209.43</td>\n",
       "      <td>2023-01-01 02:46:39</td>\n",
       "      <td>1</td>\n",
       "      <td>Discover</td>\n",
       "      <td>City-1</td>\n",
       "      <td>Gas Station</td>\n",
       "      <td>50</td>\n",
       "      <td>Purchase at Merchant-2070</td>\n",
       "    </tr>\n",
       "  </tbody>\n",
       "</table>\n",
       "<p>10000 rows × 11 columns</p>\n",
       "</div>"
      ],
      "text/plain": [
       "      transaction_id  customer_id  merchant_id   amount     transaction_time  \\\n",
       "0                  1         1082         2027  5758.59  2023-01-01 00:00:00   \n",
       "1                  2         1015         2053  1901.56  2023-01-01 00:00:01   \n",
       "2                  3         1004         2035  1248.86  2023-01-01 00:00:02   \n",
       "3                  4         1095         2037  7619.05  2023-01-01 00:00:03   \n",
       "4                  5         1036         2083  1890.10  2023-01-01 00:00:04   \n",
       "...              ...          ...          ...      ...                  ...   \n",
       "9995            9996         1056         2023  8935.28  2023-01-01 02:46:35   \n",
       "9996            9997         1053         2026    30.15  2023-01-01 02:46:36   \n",
       "9997            9998         1041         2034  6333.64  2023-01-01 02:46:37   \n",
       "9998            9999         1009         2019  2837.13  2023-01-01 02:46:38   \n",
       "9999           10000         1082         2070  7209.43  2023-01-01 02:46:39   \n",
       "\n",
       "      is_fraudulent         card_type location purchase_category  \\\n",
       "0                 0        MasterCard  City-30       Gas Station   \n",
       "1                 1              Visa  City-47   Online Shopping   \n",
       "2                 1        MasterCard   City-6       Gas Station   \n",
       "3                 1          Discover   City-6            Travel   \n",
       "4                 1        MasterCard  City-34            Retail   \n",
       "...             ...               ...      ...               ...   \n",
       "9995              1        MasterCard  City-39        Restaurant   \n",
       "9996              0        MasterCard  City-32            Retail   \n",
       "9997              0  American Express   City-1   Online Shopping   \n",
       "9998              1              Visa  City-11            Retail   \n",
       "9999              1          Discover   City-1       Gas Station   \n",
       "\n",
       "      customer_age    transaction_description  \n",
       "0               43  Purchase at Merchant-2027  \n",
       "1               61  Purchase at Merchant-2053  \n",
       "2               57  Purchase at Merchant-2035  \n",
       "3               59  Purchase at Merchant-2037  \n",
       "4               36  Purchase at Merchant-2083  \n",
       "...            ...                        ...  \n",
       "9995            36  Purchase at Merchant-2023  \n",
       "9996            42  Purchase at Merchant-2026  \n",
       "9997            36  Purchase at Merchant-2034  \n",
       "9998            57  Purchase at Merchant-2019  \n",
       "9999            50  Purchase at Merchant-2070  \n",
       "\n",
       "[10000 rows x 11 columns]"
      ]
     },
     "execution_count": 8,
     "metadata": {},
     "output_type": "execute_result"
    }
   ],
   "source": [
    "# load data\n",
    "df = pd.read_csv(\"synthetic_financial_data.csv\")\n",
    "df"
   ]
  },
  {
   "cell_type": "code",
   "execution_count": 9,
   "metadata": {},
   "outputs": [],
   "source": [
    "# let's utilize Autoviz \n",
    "\n",
    "#from autoviz.AutoViz_Class import AutoViz_Class\n",
    "#AV = AutoViz_Class()\n",
    "#report = AV.AutoViz(\"synthetic_financial_data.csv\", chart_format=\"bokeh\", depVar=\"deposit\") \n",
    "\n",
    "# I checked columns types and could not find any time series\n",
    "# I continued to read and it was saying:\n",
    "# \"2 variable(s) removed since they were ID or low-information variables\n",
    "# List of variables removed: ['transaction_id', 'transaction_time']\"\n",
    "\n",
    "# I will comment this tool and utilize others for evaluating"
   ]
  },
  {
   "cell_type": "code",
   "execution_count": 10,
   "metadata": {},
   "outputs": [
    {
     "data": {
      "application/vnd.jupyter.widget-view+json": {
       "model_id": "4834bc6399de4405865d1279a07ce53c",
       "version_major": 2,
       "version_minor": 0
      },
      "text/plain": [
       "                                             |          | [  0%]   00:00 -> (? left)"
      ]
     },
     "metadata": {},
     "output_type": "display_data"
    },
    {
     "name": "stdout",
     "output_type": "stream",
     "text": [
      "Report 01 - sweetviz_report.html was generated! NOTEBOOK/COLAB USERS: the web browser MAY not pop up, regardless, the report IS saved in your notebook/colab files.\n"
     ]
    }
   ],
   "source": [
    "# let's check teh Sweetwiz tool\n",
    "# analyze and create HTML-report\n",
    "\n",
    "import sweetviz as sv\n",
    "\n",
    "report = sv.analyze(df)\n",
    "report.show_html('01 - sweetviz_report.html')\n",
    "\n",
    "# insights:\n",
    "\n",
    "# column types:\n",
    "# 11 FEATURES\n",
    "# 5 CATEGORICAL\n",
    "# 5 NUMERICAL\n",
    "# 1 TEXT\n",
    "\n",
    "# 0 DUPLICATES\n",
    "\n",
    "# it also states that there is a strong categorical assosiation between\n",
    "# transaction_description and merchant_id\n",
    "# but it is kind of obvious because if we check some rows of our data\n",
    "# we can see that transaction_description has numbers of merchant_id\n",
    "# for instance, transaction_description is Purchase at Merchant-2023 \n",
    "# and merchant_id is 2023"
   ]
  },
  {
   "cell_type": "code",
   "execution_count": 11,
   "metadata": {},
   "outputs": [
    {
     "data": {
      "application/vnd.jupyter.widget-view+json": {
       "model_id": "a6f74853406d4020a142627e3295db28",
       "version_major": 2,
       "version_minor": 0
      },
      "text/plain": [
       "Summarize dataset:   0%|          | 0/5 [00:00<?, ?it/s]"
      ]
     },
     "metadata": {},
     "output_type": "display_data"
    },
    {
     "data": {
      "application/vnd.jupyter.widget-view+json": {
       "model_id": "464dc35dcc7240c1bae81cac120556ce",
       "version_major": 2,
       "version_minor": 0
      },
      "text/plain": [
       "Generate report structure:   0%|          | 0/1 [00:00<?, ?it/s]"
      ]
     },
     "metadata": {},
     "output_type": "display_data"
    },
    {
     "data": {
      "application/vnd.jupyter.widget-view+json": {
       "model_id": "a3b73d8b71e94134a291fb29228b7d0f",
       "version_major": 2,
       "version_minor": 0
      },
      "text/plain": [
       "Render HTML:   0%|          | 0/1 [00:00<?, ?it/s]"
      ]
     },
     "metadata": {},
     "output_type": "display_data"
    },
    {
     "data": {
      "application/vnd.jupyter.widget-view+json": {
       "model_id": "7463ca7fe73a4d06a00029e2c3d2c2fd",
       "version_major": 2,
       "version_minor": 0
      },
      "text/plain": [
       "Export report to file:   0%|          | 0/1 [00:00<?, ?it/s]"
      ]
     },
     "metadata": {},
     "output_type": "display_data"
    }
   ],
   "source": [
    "# let's see what Ydata can say about our dataset\n",
    "from ydata_profiling import ProfileReport\n",
    "\n",
    "# Generate the data profiling report, title is just \n",
    "report = ProfileReport(df, title=\"ydata report\")\n",
    "\n",
    "# create either HTML -page\n",
    "report.to_file(\"01 - ydata report.html\")\n",
    "#report.to_notebook_iframe()\n",
    "\n",
    "# Missing cells\t0\n",
    "# Missing cells (%)\t0.0%\n",
    "# Duplicate rows\t0\n",
    "# Duplicate rows (%)\t0.0%\n",
    "\n",
    "# it is also quite obvious because it synthetic dataset\n",
    "\n",
    "# this ydata tool defined columns in the different way:\n",
    "# Numeric\t5\n",
    "# DateTime\t1\n",
    "# Categorical\t4\n",
    "# Text\t1\n",
    "# I checked through the report and it looks more realistic\n",
    "# than in Sweetviz"
   ]
  },
  {
   "cell_type": "code",
   "execution_count": 12,
   "metadata": {},
   "outputs": [
    {
     "data": {
      "application/vnd.jupyter.widget-view+json": {
       "model_id": "57cb39e79d484f36b174ddb4303f0411",
       "version_major": 2,
       "version_minor": 0
      },
      "text/plain": [
       "  0%|          | 0/1520 [00:00<?, ?it/s]"
      ]
     },
     "metadata": {},
     "output_type": "display_data"
    },
    {
     "name": "stderr",
     "output_type": "stream",
     "text": [
      "C:\\Users\\e1003118\\AppData\\Local\\Packages\\PythonSoftwareFoundation.Python.3.9_qbz5n2kfra8p0\\LocalCache\\local-packages\\Python39\\site-packages\\dataprep\\eda\\distribution\\render.py:274: FutureWarning: The frame.append method is deprecated and will be removed from pandas in a future version. Use pandas.concat instead.\n",
      "  df = df.append(pd.DataFrame({col: [nrows - npresent]}, index=[\"Others\"]))\n",
      "C:\\Users\\e1003118\\AppData\\Local\\Packages\\PythonSoftwareFoundation.Python.3.9_qbz5n2kfra8p0\\LocalCache\\local-packages\\Python39\\site-packages\\dataprep\\eda\\distribution\\render.py:274: FutureWarning: The frame.append method is deprecated and will be removed from pandas in a future version. Use pandas.concat instead.\n",
      "  df = df.append(pd.DataFrame({col: [nrows - npresent]}, index=[\"Others\"]))\n",
      "C:\\Users\\e1003118\\AppData\\Local\\Packages\\PythonSoftwareFoundation.Python.3.9_qbz5n2kfra8p0\\LocalCache\\local-packages\\Python39\\site-packages\\dataprep\\eda\\distribution\\render.py:274: FutureWarning: The frame.append method is deprecated and will be removed from pandas in a future version. Use pandas.concat instead.\n",
      "  df = df.append(pd.DataFrame({col: [nrows - npresent]}, index=[\"Others\"]))\n"
     ]
    }
   ],
   "source": [
    "# and let's check my favorite tool: dataprep\n",
    "\n",
    "# in terminal:\n",
    "# pip install dataprep\n",
    "\n",
    "from dataprep.datasets import load_dataset\n",
    "from dataprep.eda import create_report\n",
    "\n",
    "create_report(df).show_browser()\n"
   ]
  }
 ],
 "metadata": {
  "kernelspec": {
   "display_name": "Python 3",
   "language": "python",
   "name": "python3"
  },
  "language_info": {
   "codemirror_mode": {
    "name": "ipython",
    "version": 3
   },
   "file_extension": ".py",
   "mimetype": "text/x-python",
   "name": "python",
   "nbconvert_exporter": "python",
   "pygments_lexer": "ipython3",
   "version": "3.9.13"
  }
 },
 "nbformat": 4,
 "nbformat_minor": 2
}
