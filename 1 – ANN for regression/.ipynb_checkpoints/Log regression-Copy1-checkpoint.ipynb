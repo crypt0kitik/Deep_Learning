{
 "cells": [
  {
   "cell_type": "markdown",
   "id": "649b3ab9-307b-417f-9058-f8c8d0175e78",
   "metadata": {},
   "source": [
    "# Experimenting with scikit-learn's Linear Regression –algorithm (classic ML) and comparing the results. "
   ]
  },
  {
   "cell_type": "markdown",
   "id": "e9ada7a1-618b-4366-8847-064cffd82915",
   "metadata": {},
   "source": [
    "Developing a neural netwrokd from scratch I had these results:\n",
    "\n",
    "In this notebook I will use the same dataset to see whether the Classic ML works better in this case\n",
    "\n",
    "There are 3 parts:  \n",
    "Part 1. Developing the Linear regression model  \n",
    "Part 2. Error and performance metrics  \n",
    "Part 3. Comparison"
   ]
  },
  {
   "cell_type": "markdown",
   "id": "c4aedb7a-9568-4f81-b445-808f2cdb9695",
   "metadata": {},
   "source": [
    "# Part 1. Developing the Linear regression model"
   ]
  },
  {
   "cell_type": "code",
   "execution_count": null,
   "id": "233f7fe5-8f8f-438a-9bf2-1934de9c5754",
   "metadata": {},
   "outputs": [],
   "source": [
    "import pandas as pd\n",
    "import numpy as np\n",
    "import matplotlib.pyplot as plt\n",
    "import seaborn as sns\n",
    "\n",
    "# pip install scikit-learn\n",
    "from sklearn.model_selection import train_test_split\n",
    "from sklearn.linear_model import LogisticRegression\n",
    "from sklearn import metrics\n",
    "from sklearn.metrics import classification_report\n",
    "from sklearn.metrics import confusion_matrix\n",
    "from sklearn.metrics import accuracy_score\n",
    "from sklearn.metrics import roc_auc_score\n",
    "\n",
    "# pipeline features\n",
    "from sklearn.pipeline import make_pipeline\n",
    "from sklearn.preprocessing import StandardScaler\n",
    "from sklearn.preprocessing import PolynomialFeatures\n",
    "from sklearn.preprocessing import FunctionTransformer"
   ]
  },
  {
   "cell_type": "code",
   "execution_count": null,
   "id": "1b1ab152-b146-42e8-aab9-f851c7a24c80",
   "metadata": {},
   "outputs": [],
   "source": [
    "# upload data\n",
    "df = pd.read_csv(\"balanced_data.csv\")"
   ]
  },
  {
   "cell_type": "code",
   "execution_count": null,
   "id": "883f7631-9c10-41e0-acc5-11252c261180",
   "metadata": {},
   "outputs": [],
   "source": [
    "# leave out the target variable! (dependent variable)\n",
    "X = df[['Year', 'Mileage', 'City', 'State', 'Make', 'Model']]\n",
    "\n",
    "# have only the target variable here (dependent variable)\n",
    "y = df['Price']"
   ]
  },
  {
   "cell_type": "code",
   "execution_count": null,
   "id": "73ab81ca-efb5-4774-b69a-c1c97dd00039",
   "metadata": {},
   "outputs": [],
   "source": [
    "# train-test split\n",
    "X_train, X_test, y_train, y_test = train_test_split(X, y, test_size=0.2, random_state=101)"
   ]
  },
  {
   "cell_type": "code",
   "execution_count": null,
   "id": "3c457b29-f92e-4b56-83b8-2effb58f8e33",
   "metadata": {},
   "outputs": [],
   "source": [
    "# create an empty linear regression model\n",
    "# and fit it with out data \n",
    "logmodel = LogisticRegression()\n",
    "logmodel.fit(X_train, y_train)"
   ]
  },
  {
   "cell_type": "markdown",
   "id": "6dc4b32f-5053-4589-9db5-648c7607b30f",
   "metadata": {},
   "source": [
    "# Part 2. Error and performance metrics"
   ]
  },
  {
   "cell_type": "code",
   "execution_count": null,
   "id": "d33656a1-1aee-48ea-b802-57b5547a74aa",
   "metadata": {},
   "outputs": [],
   "source": [
    "# make test predictions\n",
    "predictions = logmodel.predict(X_test)"
   ]
  },
  {
   "cell_type": "code",
   "execution_count": null,
   "id": "1b494d04-605d-4219-bd12-61ce81242026",
   "metadata": {},
   "outputs": [],
   "source": [
    "# these values follow a line = good predictions\n",
    "# we basically compare the predicted values \n",
    "# to true test values and see the differences\n",
    "plt.scatter(y_test, predictions)\n",
    "plt.show()\n",
    "\n",
    "# insights:\n",
    "# whyyy?\n",
    "# there are several potentional reasons of this:\n",
    "# 1. data is too complex for linear regresssion\n",
    "# 2. having some outliers\n",
    "# 3. overfitting or underfitting\n",
    "# 4. maybe some of features of the model should be changed\n",
    "# I will try it later in another notebook"
   ]
  },
  {
   "cell_type": "code",
   "execution_count": null,
   "id": "22b2beab-d621-4e84-aa66-19d7cf350d8f",
   "metadata": {},
   "outputs": [],
   "source": [
    "test_predictions = lm.predict(X_test)\n",
    "\n",
    "# MAE - Mean average error\n",
    "print(\"MAE\")\n",
    "print(round(metrics.mean_absolute_error(y_test, test_predictions), 2), \"$\")\n",
    "\n",
    "# MSE - Mean square error\n",
    "print(\"\\nMSE\")\n",
    "print(round(metrics.mean_squared_error(y_test, test_predictions), 2), \"$^2\")\n",
    "\n",
    "# RMSE - Root mean square error\n",
    "print('\\nRMSE:')\n",
    "print(round(np.sqrt(metrics.mean_squared_error(y_test, test_predictions)), 2), \"$\")\n",
    "\n",
    "# R-squared. 0 = the model descibes the dataset poorly\n",
    "# 1 = model describes the dataset perfectly\n",
    "print('\\nR-squared:')\n",
    "print(round(metrics.r2_score(y_test, test_predictions), 2))\n",
    "\n",
    "# Explained Variance Score => 0 = the model descibes the dataset poorly\n",
    "# 1 = model describes the dataset perfectly\n",
    "# high variance score = model is a good fit for the data \n",
    "# low variance score = model is not a good fit for the data\n",
    "# the higher the score, the model is more able to explain the variation in the data\n",
    "# if score is low, we might need more and better data\n",
    "print(\"\\nExplained variance score:\")\n",
    "print(round(metrics.explained_variance_score(y_test, test_predictions), 2))"
   ]
  },
  {
   "cell_type": "markdown",
   "id": "a658040e-c79d-46cc-abbe-d9393c0f8307",
   "metadata": {},
   "source": [
    "# Part 3. Comparison"
   ]
  },
  {
   "cell_type": "markdown",
   "id": "b09fce89-96fc-480f-8d04-4e686e5613f7",
   "metadata": {},
   "source": [
    "## ANN for regression:  \n",
    "MAE 4841.92 $  \n",
    "\n",
    "MSE 34666769.92 $^2\n",
    "\n",
    "RMSE 5887.85 $  \n",
    "\n",
    "R-squared 0.7  \n",
    "\n",
    "Explained variance score 0.1  \n",
    "\n",
    "## Linear regression:  \n",
    "\n",
    "MAE 4828.72 $  \n",
    "\n",
    "MSE 33186933.62 $^2  \n",
    "\n",
    "RMSE 5760.81 $  \n",
    "\n",
    "R-squared 0.11  \n",
    "\n",
    "Explained variance score 0.11  \n",
    "\n",
    "## Insights:\n",
    "1. The MAE values are very close, with the Linear Regression model having a slightly lower MAE. This indicates that on average, the predictions from the Linear Regression model are marginally closer to the actual values than those from the ANN.\n",
    "2. The MSE for the Linear Regression model is lower, suggesting it has smaller errors overall compared to the ANN. Since MSE penalizes larger errors more severely, this metric suggests that the ANN might be producing some predictions that are significantly further off from the actual values compared to the Linear Regression model.\n",
    "3. The Linear Regression model performs slightly better with a lower RMSE, meaning it has smaller overall prediction errors compared to the ANN.\n",
    "4. The R-squared value is higher for the Linear Regression model, meaning it explains more of the variance in the data compared to the ANN (11% vs. 7%). Although both values are low, indicating that neither model is capturing much of the data’s variability, the Linear Regression model is slightly more effective in this regard.\n",
    "5. The explained variance score  is slightly better for Linear Regression. Both models have low explained variance scores, but again, the Linear Regression model performs a little better.\n",
    "\n",
    "## Result:\n",
    "The linear regression wokrs better with this dataset than ANN."
   ]
  }
 ],
 "metadata": {
  "kernelspec": {
   "display_name": "Python 3 (ipykernel)",
   "language": "python",
   "name": "python3"
  },
  "language_info": {
   "codemirror_mode": {
    "name": "ipython",
    "version": 3
   },
   "file_extension": ".py",
   "mimetype": "text/x-python",
   "name": "python",
   "nbconvert_exporter": "python",
   "pygments_lexer": "ipython3",
   "version": "3.10.9"
  }
 },
 "nbformat": 4,
 "nbformat_minor": 5
}
