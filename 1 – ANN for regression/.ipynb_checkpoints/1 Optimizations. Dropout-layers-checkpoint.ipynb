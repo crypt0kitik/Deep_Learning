{
 "cells": [
  {
   "cell_type": "markdown",
   "id": "70cd9c68-6be1-425f-8bad-89810893050b",
   "metadata": {},
   "source": [
    "Instead of experimenting with the epoch-variable to optimize your\n",
    "neural network or to avoid overfitting, implement these features in\n",
    "your neural network:\n",
    " Dropout-layers\n",
    " EarlyStop\n",
    " ReduceLROnPlateau"
   ]
  },
  {
   "cell_type": "code",
   "execution_count": null,
   "id": "68e07ff5-e5af-4b90-899a-e47c97b1435c",
   "metadata": {},
   "outputs": [],
   "source": []
  }
 ],
 "metadata": {
  "kernelspec": {
   "display_name": "Python 3 (ipykernel)",
   "language": "python",
   "name": "python3"
  },
  "language_info": {
   "codemirror_mode": {
    "name": "ipython",
    "version": 3
   },
   "file_extension": ".py",
   "mimetype": "text/x-python",
   "name": "python",
   "nbconvert_exporter": "python",
   "pygments_lexer": "ipython3",
   "version": "3.10.9"
  }
 },
 "nbformat": 4,
 "nbformat_minor": 5
}
