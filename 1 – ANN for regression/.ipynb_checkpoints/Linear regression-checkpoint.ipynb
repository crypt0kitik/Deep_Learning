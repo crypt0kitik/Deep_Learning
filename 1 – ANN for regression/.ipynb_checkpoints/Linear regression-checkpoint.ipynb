{
 "cells": [
  {
   "cell_type": "markdown",
   "id": "649b3ab9-307b-417f-9058-f8c8d0175e78",
   "metadata": {},
   "source": [
    "Experimenting with scikit-learn's Linear Regression –algorithm (classic ML) and comparing the results. "
   ]
  },
  {
   "cell_type": "code",
   "execution_count": null,
   "id": "724f7253-d8b9-4feb-8b8f-0c231fd72dc3",
   "metadata": {},
   "outputs": [],
   "source": []
  }
 ],
 "metadata": {
  "kernelspec": {
   "display_name": "Python 3 (ipykernel)",
   "language": "python",
   "name": "python3"
  },
  "language_info": {
   "codemirror_mode": {
    "name": "ipython",
    "version": 3
   },
   "file_extension": ".py",
   "mimetype": "text/x-python",
   "name": "python",
   "nbconvert_exporter": "python",
   "pygments_lexer": "ipython3",
   "version": "3.10.9"
  }
 },
 "nbformat": 4,
 "nbformat_minor": 5
}
